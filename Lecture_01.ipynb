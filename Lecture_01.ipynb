{
 "metadata": {
  "language_info": {
   "codemirror_mode": {
    "name": "ipython",
    "version": 3
   },
   "file_extension": ".py",
   "mimetype": "text/x-python",
   "name": "python",
   "nbconvert_exporter": "python",
   "pygments_lexer": "ipython3",
   "version": "3.8.3-final"
  },
  "orig_nbformat": 2,
  "kernelspec": {
   "name": "python3",
   "display_name": "Python 3",
   "language": "python"
  }
 },
 "nbformat": 4,
 "nbformat_minor": 2,
 "cells": [
  {
   "source": [
    "# ndarray"
   ],
   "cell_type": "markdown",
   "metadata": {}
  },
  {
   "cell_type": "code",
   "execution_count": 1,
   "metadata": {},
   "outputs": [],
   "source": [
    "import numpy as np"
   ]
  },
  {
   "source": [
    "## 使用循环"
   ],
   "cell_type": "markdown",
   "metadata": {}
  },
  {
   "cell_type": "code",
   "execution_count": 2,
   "metadata": {},
   "outputs": [
    {
     "output_type": "stream",
     "name": "stdout",
     "text": [
      "[729, 513, 347, 225, 141]\n"
     ]
    }
   ],
   "source": [
    "\n",
    "def pySum():\n",
    "    a = [0,1,2,3,4]\n",
    "    b = [9,8,7,6,5]\n",
    "    c = []\n",
    "\n",
    "    for i in range(len(a)):\n",
    "        c.append(a[i]**2+b[i]**3)\n",
    "    return c\n",
    "print(pySum())\n"
   ]
  },
  {
   "source": [
    "## 使用Numpy\n",
    "- Numpy去掉了循环，提高了效率。\n",
    "- 数组对象采用相同的数据类型，有助于节省运算和存储空间。\n"
   ],
   "cell_type": "markdown",
   "metadata": {}
  },
  {
   "cell_type": "code",
   "execution_count": 3,
   "metadata": {},
   "outputs": [
    {
     "output_type": "stream",
     "name": "stdout",
     "text": [
      "[729 513 347 225 141]\n"
     ]
    }
   ],
   "source": [
    "def npSum():\n",
    "    a = np.array([0,1,2,3,4])\n",
    "    b = np.array([9,8,7,6,5])\n",
    "    c = a**2+b**3\n",
    "\n",
    "    return c \n",
    "print(npSum())"
   ]
  },
  {
   "source": [
    "# ndarray是什么\n",
    "一个多维数组的对象，由两部分组成:\n",
    "- 实际的数据\n",
    "- 描述这些数据的元数据\n",
    "\n",
    "ndarray要求所有元素类型相同，也就是同质；与list相同，下标index是从0开始的。\n",
    "\n",
    "## ndarray例子"
   ],
   "cell_type": "markdown",
   "metadata": {}
  },
  {
   "cell_type": "code",
   "execution_count": 5,
   "metadata": {},
   "outputs": [],
   "source": [
    "# 生成一个nparray数组\n",
    "a = np.array([[0,1,2,3,4],[9,8,7,6,5]])\n",
    "\n"
   ]
  },
  {
   "cell_type": "code",
   "execution_count": 8,
   "metadata": {},
   "outputs": [
    {
     "output_type": "execute_result",
     "data": {
      "text/plain": [
       "array([[0, 1, 2, 3, 4],\n",
       "       [9, 8, 7, 6, 5]])"
      ]
     },
     "metadata": {},
     "execution_count": 8
    }
   ],
   "source": [
    "# 输出为[]性质，元素由空格分割\n",
    "# axis: 轴，保存数据的维度\n",
    "# rank：秩， 轴的数量\n",
    "a"
   ]
  },
  {
   "source": [
    "## ndarray对象的属性\n",
    "- `.ndim`: 轴，保存数据的维度\n",
    "- `.shape`: ndarray对象的尺度，对于矩阵，n行m列\n",
    "- `.size`: ndarray对象元素的个数，相当于`.shape`中n*m的值\n",
    "- `.dtype`: ndarray对象的元素类型\n",
    "- `.itemsize`: ndarray对象中每个元素的大小，以字节为单位"
   ],
   "cell_type": "markdown",
   "metadata": {}
  },
  {
   "source": [
    "### 例子"
   ],
   "cell_type": "markdown",
   "metadata": {}
  },
  {
   "cell_type": "code",
   "execution_count": 10,
   "metadata": {},
   "outputs": [
    {
     "output_type": "execute_result",
     "data": {
      "text/plain": [
       "2"
      ]
     },
     "metadata": {},
     "execution_count": 10
    }
   ],
   "source": [
    "# .ndim: 轴，保存数据的维度\n",
    "a.ndim"
   ]
  },
  {
   "cell_type": "code",
   "execution_count": 12,
   "metadata": {},
   "outputs": [
    {
     "output_type": "execute_result",
     "data": {
      "text/plain": [
       "(2, 5)"
      ]
     },
     "metadata": {},
     "execution_count": 12
    }
   ],
   "source": [
    "# .shape: ndarray对象的尺度，对于矩阵，n行m列\n",
    "a.shape"
   ]
  },
  {
   "cell_type": "code",
   "execution_count": 13,
   "metadata": {},
   "outputs": [
    {
     "output_type": "execute_result",
     "data": {
      "text/plain": [
       "10"
      ]
     },
     "metadata": {},
     "execution_count": 13
    }
   ],
   "source": [
    "# .size: ndarray对象元素的个数，相当于.shape中n*m的值\n",
    "a.size"
   ]
  },
  {
   "cell_type": "code",
   "execution_count": 15,
   "metadata": {},
   "outputs": [
    {
     "output_type": "execute_result",
     "data": {
      "text/plain": [
       "dtype('int64')"
      ]
     },
     "metadata": {},
     "execution_count": 15
    }
   ],
   "source": [
    "# .dtype: ndarray对象的元素类型\n",
    "a.dtype"
   ]
  },
  {
   "cell_type": "code",
   "execution_count": 17,
   "metadata": {},
   "outputs": [
    {
     "output_type": "execute_result",
     "data": {
      "text/plain": [
       "8"
      ]
     },
     "metadata": {},
     "execution_count": 17
    }
   ],
   "source": [
    "# .itemsize: ndarray对象中每个元素的大小，以字节为单位\n",
    "a.itemsize"
   ]
  },
  {
   "source": [
    "## ndarray的元素类型\n",
    "- bool：布尔值，True或False\n",
    "- intc：与C语言的int类型一致，一般是int32或int64，取决于运行的电脑\n",
    "- intp：用于索引的整数，与C语言的ssize_t一致，一般是int32或int64\n",
    "- inti, i =（8,16,32,64）: i位长度的整数，取值范围[$-2^{i-1}$,$2^{i-1}-1$]\n",
    "在python语法中，仅支持int，float，complex。但ndarray的出现补充了python可以处理的数据类型，有处于程序员对程序的优化，评估。\n"
   ],
   "cell_type": "markdown",
   "metadata": {}
  },
  {
   "cell_type": "code",
   "execution_count": 19,
   "metadata": {},
   "outputs": [],
   "source": [
    "# ndarray数组可以由非同质对象构成\n",
    "x = np.array([[0,1,2,3,4],[9,8,7,6]])"
   ]
  },
  {
   "cell_type": "code",
   "execution_count": 20,
   "metadata": {},
   "outputs": [
    {
     "output_type": "execute_result",
     "data": {
      "text/plain": [
       "(2,)"
      ]
     },
     "metadata": {},
     "execution_count": 20
    }
   ],
   "source": [
    "x.shape"
   ]
  },
  {
   "cell_type": "code",
   "execution_count": 22,
   "metadata": {},
   "outputs": [
    {
     "output_type": "execute_result",
     "data": {
      "text/plain": [
       "dtype('O')"
      ]
     },
     "metadata": {},
     "execution_count": 22
    }
   ],
   "source": [
    "x.dtype"
   ]
  },
  {
   "cell_type": "code",
   "execution_count": 23,
   "metadata": {},
   "outputs": [
    {
     "output_type": "execute_result",
     "data": {
      "text/plain": [
       "array([list([0, 1, 2, 3, 4]), list([9, 8, 7, 6])], dtype=object)"
      ]
     },
     "metadata": {},
     "execution_count": 23
    }
   ],
   "source": [
    "x # 非同质ndarray对象无法有效numpy优质，尽量不用"
   ]
  }
 ]
}