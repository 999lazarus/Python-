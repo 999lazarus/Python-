{
 "metadata": {
  "language_info": {
   "codemirror_mode": {
    "name": "ipython",
    "version": 3
   },
   "file_extension": ".py",
   "mimetype": "text/x-python",
   "name": "python",
   "nbconvert_exporter": "python",
   "pygments_lexer": "ipython3",
   "version": "3.8.3-final"
  },
  "orig_nbformat": 2,
  "kernelspec": {
   "name": "python3",
   "display_name": "Python 3",
   "language": "python"
  }
 },
 "nbformat": 4,
 "nbformat_minor": 2,
 "cells": [
  {
   "source": [
    "# NumPy数据存取与函数\n",
    "\n"
   ],
   "cell_type": "markdown",
   "metadata": {}
  },
  {
   "cell_type": "code",
   "execution_count": 3,
   "metadata": {},
   "outputs": [],
   "source": [
    "import numpy as np"
   ]
  },
  {
   "source": [
    "## 数据的CSV文件存取\n",
    "### 将数据写入csv\n",
    "np.savetxt(frame,array, fmt = \"%.18e\", delimiter = None)\n",
    "- frame: 文件，字符串或产生器，可以是.gz或.bz2压缩文件 \n",
    "- array: 存入文件的数组\n",
    "- fmt: 写入文件的格式，例如：%d%2f%.18e\n",
    "- delimiter: 分割字符串，默认是任何空格"
   ],
   "cell_type": "markdown",
   "metadata": {}
  },
  {
   "cell_type": "code",
   "execution_count": 4,
   "metadata": {},
   "outputs": [
    {
     "output_type": "execute_result",
     "data": {
      "text/plain": [
       "array([[ 0,  1,  2,  3,  4,  5,  6,  7,  8,  9, 10, 11, 12, 13, 14, 15,\n",
       "        16, 17, 18, 19],\n",
       "       [20, 21, 22, 23, 24, 25, 26, 27, 28, 29, 30, 31, 32, 33, 34, 35,\n",
       "        36, 37, 38, 39],\n",
       "       [40, 41, 42, 43, 44, 45, 46, 47, 48, 49, 50, 51, 52, 53, 54, 55,\n",
       "        56, 57, 58, 59],\n",
       "       [60, 61, 62, 63, 64, 65, 66, 67, 68, 69, 70, 71, 72, 73, 74, 75,\n",
       "        76, 77, 78, 79],\n",
       "       [80, 81, 82, 83, 84, 85, 86, 87, 88, 89, 90, 91, 92, 93, 94, 95,\n",
       "        96, 97, 98, 99]])"
      ]
     },
     "metadata": {},
     "execution_count": 4
    }
   ],
   "source": [
    "a = np.arange(100).reshape(5,20)\n",
    "a"
   ]
  },
  {
   "cell_type": "code",
   "execution_count": 10,
   "metadata": {},
   "outputs": [],
   "source": [
    "np.savetxt(\"a.csv\", a, fmt = \"%d\", delimiter = \",\")\n"
   ]
  },
  {
   "source": [
    "### 读取csv数据\n",
    "np.loadtxt(frame, dtype = np.float, delimiter = None, unpack =  False)\n",
    "- frame: 文件，字符串或产生器，可以是.gz或.bz2的压缩文件\n",
    "- dtype: 数据类型，可选\n",
    "- delimiter: 分割字符串, 默认是任何空格\n",
    "- unpack: 如果True, 读入属性将写入不同变量"
   ],
   "cell_type": "markdown",
   "metadata": {}
  },
  {
   "source": [
    "#### np.loadtxt"
   ],
   "cell_type": "markdown",
   "metadata": {}
  },
  {
   "cell_type": "code",
   "execution_count": 9,
   "metadata": {},
   "outputs": [
    {
     "output_type": "execute_result",
     "data": {
      "text/plain": [
       "array([[ 0.,  1.,  2.,  3.,  4.,  5.,  6.,  7.,  8.,  9., 10., 11., 12.,\n",
       "        13., 14., 15., 16., 17., 18., 19.],\n",
       "       [20., 21., 22., 23., 24., 25., 26., 27., 28., 29., 30., 31., 32.,\n",
       "        33., 34., 35., 36., 37., 38., 39.],\n",
       "       [40., 41., 42., 43., 44., 45., 46., 47., 48., 49., 50., 51., 52.,\n",
       "        53., 54., 55., 56., 57., 58., 59.],\n",
       "       [60., 61., 62., 63., 64., 65., 66., 67., 68., 69., 70., 71., 72.,\n",
       "        73., 74., 75., 76., 77., 78., 79.],\n",
       "       [80., 81., 82., 83., 84., 85., 86., 87., 88., 89., 90., 91., 92.,\n",
       "        93., 94., 95., 96., 97., 98., 99.]])"
      ]
     },
     "metadata": {},
     "execution_count": 9
    }
   ],
   "source": [
    "b = np.loadtxt(\"a.csv\",delimiter = \",\")\n",
    "b"
   ]
  },
  {
   "source": [
    "## CSV文件的局限性\n",
    "CSV只能有效存储一维和二维数组\n",
    "np.savetxt(); np.loadtxt()只能有效存取一维和二维数组\n"
   ],
   "cell_type": "markdown",
   "metadata": {}
  },
  {
   "source": [
    "# 多维数据的存取\n",
    " "
   ],
   "cell_type": "markdown",
   "metadata": {}
  },
  {
   "source": [
    "## 任意维度数据如何存取\n",
    "\n",
    "### 存储任意维度的数据\n",
    "a.tofile(frame, sep = '', format = '%s')\n",
    "\n",
    "- frame: 文件，字符串\n",
    "- sep: 数据分割字符串，如果是空串\n",
    "- format: 写入数据的格式\n",
    "\n"
   ],
   "cell_type": "markdown",
   "metadata": {}
  },
  {
   "cell_type": "code",
   "execution_count": 12,
   "metadata": {},
   "outputs": [],
   "source": [
    "a  = np.arange(100).reshape(5,10,2)\n",
    "a.tofile(\"b.dat\", sep = \",\", format = \"%d\")"
   ]
  },
  {
   "cell_type": "code",
   "execution_count": 16,
   "metadata": {},
   "outputs": [],
   "source": [
    "a  = np.arange(100).reshape(5,10,2)\n",
    "a.tofile(\"c.dat\", sep = \",\", format = \"%s\")"
   ]
  },
  {
   "cell_type": "code",
   "execution_count": 18,
   "metadata": {},
   "outputs": [],
   "source": [
    "a  = np.arange(100).reshape(5,10,2)\n",
    "a.tofile(\"d.dat\",format = \"%d\")"
   ]
  },
  {
   "source": [
    "### 读取任意维度的数据\n",
    "\n",
    "np.fromfile(frame, dtype = float, count = -1, sep = '')\n",
    "\n",
    "- frame: 文件，字符串\n",
    "- dtype: 读取的数据类型\n",
    "- count: 读入元素个数，-1表示读入整个文件\n",
    "- sep: 数据分割字符串，如果是空，写入文件为二进制"
   ],
   "cell_type": "markdown",
   "metadata": {}
  },
  {
   "cell_type": "code",
   "execution_count": 20,
   "metadata": {},
   "outputs": [],
   "source": [
    "a = np.arange(100).reshape(5,10,2)\n",
    "c = np.fromfile(\"b.dat\", dtype = np.int, sep = ',')"
   ]
  },
  {
   "cell_type": "code",
   "execution_count": 22,
   "metadata": {},
   "outputs": [
    {
     "output_type": "execute_result",
     "data": {
      "text/plain": [
       "array([ 0,  1,  2,  3,  4,  5,  6,  7,  8,  9, 10, 11, 12, 13, 14, 15, 16,\n",
       "       17, 18, 19, 20, 21, 22, 23, 24, 25, 26, 27, 28, 29, 30, 31, 32, 33,\n",
       "       34, 35, 36, 37, 38, 39, 40, 41, 42, 43, 44, 45, 46, 47, 48, 49, 50,\n",
       "       51, 52, 53, 54, 55, 56, 57, 58, 59, 60, 61, 62, 63, 64, 65, 66, 67,\n",
       "       68, 69, 70, 71, 72, 73, 74, 75, 76, 77, 78, 79, 80, 81, 82, 83, 84,\n",
       "       85, 86, 87, 88, 89, 90, 91, 92, 93, 94, 95, 96, 97, 98, 99])"
      ]
     },
     "metadata": {},
     "execution_count": 22
    }
   ],
   "source": [
    "c"
   ]
  },
  {
   "cell_type": "code",
   "execution_count": 23,
   "metadata": {},
   "outputs": [
    {
     "output_type": "execute_result",
     "data": {
      "text/plain": [
       "array([[[ 0,  1],\n",
       "        [ 2,  3],\n",
       "        [ 4,  5],\n",
       "        [ 6,  7],\n",
       "        [ 8,  9],\n",
       "        [10, 11],\n",
       "        [12, 13],\n",
       "        [14, 15],\n",
       "        [16, 17],\n",
       "        [18, 19]],\n",
       "\n",
       "       [[20, 21],\n",
       "        [22, 23],\n",
       "        [24, 25],\n",
       "        [26, 27],\n",
       "        [28, 29],\n",
       "        [30, 31],\n",
       "        [32, 33],\n",
       "        [34, 35],\n",
       "        [36, 37],\n",
       "        [38, 39]],\n",
       "\n",
       "       [[40, 41],\n",
       "        [42, 43],\n",
       "        [44, 45],\n",
       "        [46, 47],\n",
       "        [48, 49],\n",
       "        [50, 51],\n",
       "        [52, 53],\n",
       "        [54, 55],\n",
       "        [56, 57],\n",
       "        [58, 59]],\n",
       "\n",
       "       [[60, 61],\n",
       "        [62, 63],\n",
       "        [64, 65],\n",
       "        [66, 67],\n",
       "        [68, 69],\n",
       "        [70, 71],\n",
       "        [72, 73],\n",
       "        [74, 75],\n",
       "        [76, 77],\n",
       "        [78, 79]],\n",
       "\n",
       "       [[80, 81],\n",
       "        [82, 83],\n",
       "        [84, 85],\n",
       "        [86, 87],\n",
       "        [88, 89],\n",
       "        [90, 91],\n",
       "        [92, 93],\n",
       "        [94, 95],\n",
       "        [96, 97],\n",
       "        [98, 99]]])"
      ]
     },
     "metadata": {},
     "execution_count": 23
    }
   ],
   "source": [
    "c = c.reshape(5,10,2)\n",
    "c"
   ]
  },
  {
   "source": [
    "## Numpy的便携文件存取\n",
    "np.save(fname, array) 或 np.savez(fname, array)\n",
    "- fname : 文件名，以.npy为扩展名，压缩扩展名为.npz\n",
    "- array : 数组变量\n",
    "\n",
    "np.load(fname)\n",
    "- frame : 文件名，以.npy为扩展名，压缩扩展名为.np"
   ],
   "cell_type": "markdown",
   "metadata": {}
  },
  {
   "source": [
    "## Numpy的随机数函数子库(1)\n",
    "1. np.random.*\n",
    "\n",
    "- np.random.rand(d0,d1,..,dn): 根据d0‐dn创建随机数数组，浮点数，[0,1)，均匀分布\n",
    "- randn(d0,d1,..,dn): 根据d0‐dn创建随机数数组，标准正态分布\n",
    "- randint(low[, high, hape]): 根据shape创建随机整数或整数数组，范围是[low, high)\n",
    "- seed(s): 随机数种子，s是给定的种子值\n",
    "\n",
    "2. shuffle(a): 根据数组a的第1轴进行随排列，改变数组x\n",
    "\n",
    "3. permutation(a): 根据数组a的第1轴产生一个新的乱序数组，不改变数组x\n",
    "\n",
    "4. choice(a[,size,replace,p]): 从一维数组a中以概率p抽取元素，形成size形状新数组 replace表示是否可以重用元素，默认为False\n",
    "\n",
    "\n"
   ],
   "cell_type": "markdown",
   "metadata": {}
  },
  {
   "cell_type": "code",
   "execution_count": 25,
   "metadata": {},
   "outputs": [
    {
     "output_type": "execute_result",
     "data": {
      "text/plain": [
       "array([[[0.73883565, 0.58047375, 0.36821846, 0.97755608, 0.74360352],\n",
       "        [0.17661563, 0.49229834, 0.34069352, 0.94920273, 0.15548118],\n",
       "        [0.1017372 , 0.96962368, 0.16689454, 0.55118249, 0.62485232],\n",
       "        [0.92884459, 0.15282691, 0.70151331, 0.85223461, 0.52845874]],\n",
       "\n",
       "       [[0.4534344 , 0.39107026, 0.23713559, 0.28304529, 0.28509618],\n",
       "        [0.3992585 , 0.02908636, 0.88786779, 0.62414144, 0.24096733],\n",
       "        [0.83620009, 0.00849905, 0.13744113, 0.17629737, 0.09461948],\n",
       "        [0.32535489, 0.40523021, 0.97742531, 0.09469144, 0.99772911]],\n",
       "\n",
       "       [[0.3193099 , 0.93189123, 0.44415005, 0.41070573, 0.44251762],\n",
       "        [0.86773445, 0.86760533, 0.65864075, 0.00420576, 0.375222  ],\n",
       "        [0.18931522, 0.52832532, 0.93698867, 0.60053303, 0.23884534],\n",
       "        [0.77351486, 0.06917383, 0.06920655, 0.80508893, 0.23894102]]])"
      ]
     },
     "metadata": {},
     "execution_count": 25
    }
   ],
   "source": [
    "a = np.random.rand(3,4,5)\n",
    "a"
   ]
  },
  {
   "cell_type": "code",
   "execution_count": 27,
   "metadata": {},
   "outputs": [
    {
     "output_type": "execute_result",
     "data": {
      "text/plain": [
       "array([[[ 0.74906016,  0.29824995,  0.45628224, -0.5498135 ,\n",
       "         -0.58904782],\n",
       "        [-0.48142787,  2.06016124, -0.93462677,  0.02761313,\n",
       "         -0.86064853],\n",
       "        [-1.41489108, -1.09529722,  0.42516742,  0.73724758,\n",
       "         -0.49345464],\n",
       "        [ 0.64350045, -1.38029344,  0.33700726,  0.79217334,\n",
       "          1.33118453]],\n",
       "\n",
       "       [[-0.30045438,  0.05404906,  1.32741997,  0.22525809,\n",
       "         -2.03507458],\n",
       "        [-0.24912726,  0.42753722,  0.64064527, -0.0829262 ,\n",
       "         -1.39362727],\n",
       "        [-0.55408027, -3.10766056,  0.10816584,  0.75841612,\n",
       "         -1.36249755],\n",
       "        [-0.20393668,  0.03141496,  1.24909753, -0.92855672,\n",
       "         -3.61022711]],\n",
       "\n",
       "       [[-1.42550887,  1.41567397,  0.47245951, -0.40803658,\n",
       "          2.05888836],\n",
       "        [ 1.37209608, -0.1730004 ,  0.45952043,  0.47492323,\n",
       "          0.89813978],\n",
       "        [-0.38369122,  1.23482431, -1.56828984, -2.03345711,\n",
       "         -1.64276572],\n",
       "        [ 0.07173082,  1.32225263, -1.04007969,  0.13206231,\n",
       "          0.77626319]]])"
      ]
     },
     "metadata": {},
     "execution_count": 27
    }
   ],
   "source": [
    "a = np.random.randn(3,4,5)\n",
    "a "
   ]
  },
  {
   "cell_type": "code",
   "execution_count": 29,
   "metadata": {},
   "outputs": [
    {
     "output_type": "execute_result",
     "data": {
      "text/plain": [
       "array([[120, 116, 187, 159],\n",
       "       [121, 120, 126, 185],\n",
       "       [188, 132, 182, 143]])"
      ]
     },
     "metadata": {},
     "execution_count": 29
    }
   ],
   "source": [
    "b = np.random.randint(100,200,(3,4))\n",
    "b"
   ]
  },
  {
   "cell_type": "code",
   "execution_count": 30,
   "metadata": {},
   "outputs": [
    {
     "output_type": "execute_result",
     "data": {
      "text/plain": [
       "array([[109, 115, 164, 128],\n",
       "       [189, 193, 129, 108],\n",
       "       [173, 100, 140, 136]])"
      ]
     },
     "metadata": {},
     "execution_count": 30
    }
   ],
   "source": [
    "np.random.seed(10)\n",
    "np.random.randint(100,200,(3,4))"
   ]
  },
  {
   "cell_type": "code",
   "execution_count": 33,
   "metadata": {},
   "outputs": [
    {
     "output_type": "execute_result",
     "data": {
      "text/plain": [
       "array([[116, 111, 154, 188],\n",
       "       [162, 133, 172, 178],\n",
       "       [149, 151, 154, 177]])"
      ]
     },
     "metadata": {},
     "execution_count": 33
    }
   ],
   "source": [
    "a = np.random.randint(100,200,(3,4))\n",
    "a"
   ]
  },
  {
   "source": [
    "## Numpy的随机数函数子库(2)\n",
    "\n",
    "1. shuffle(a): 根据数组a的第1轴进行随排列，改变数组x\n",
    "\n",
    "2. permutation(a): 根据数组a的第1轴产生一个新的乱序数组，不改变数组x\n",
    "\n",
    "3. choice(a[,size,replace,p]): 从一维数组a中以概率p抽取元素，形成size形状新数组 replace表示是否可以重用元素，默认为False\n"
   ],
   "cell_type": "markdown",
   "metadata": {}
  },
  {
   "cell_type": "code",
   "execution_count": 35,
   "metadata": {},
   "outputs": [
    {
     "output_type": "execute_result",
     "data": {
      "text/plain": [
       "array([[162, 133, 172, 178],\n",
       "       [116, 111, 154, 188],\n",
       "       [149, 151, 154, 177]])"
      ]
     },
     "metadata": {},
     "execution_count": 35
    }
   ],
   "source": [
    "np.random.shuffle(a)\n",
    "a"
   ]
  },
  {
   "cell_type": "code",
   "execution_count": 36,
   "metadata": {},
   "outputs": [
    {
     "output_type": "execute_result",
     "data": {
      "text/plain": [
       "array([[113, 192, 186, 130],\n",
       "       [130, 189, 112, 165],\n",
       "       [131, 157, 136, 127]])"
      ]
     },
     "metadata": {},
     "execution_count": 36
    }
   ],
   "source": [
    "a = np.random.randint(100,200,(3,4))\n",
    "a"
   ]
  },
  {
   "cell_type": "code",
   "execution_count": 42,
   "metadata": {},
   "outputs": [
    {
     "output_type": "execute_result",
     "data": {
      "text/plain": [
       "array([[130, 189, 112, 165],\n",
       "       [113, 192, 186, 130],\n",
       "       [131, 157, 136, 127]])"
      ]
     },
     "metadata": {},
     "execution_count": 42
    }
   ],
   "source": [
    "np.random.permutation(a)"
   ]
  },
  {
   "cell_type": "code",
   "execution_count": 43,
   "metadata": {},
   "outputs": [
    {
     "output_type": "execute_result",
     "data": {
      "text/plain": [
       "array([[113, 192, 186, 130],\n",
       "       [130, 189, 112, 165],\n",
       "       [131, 157, 136, 127]])"
      ]
     },
     "metadata": {},
     "execution_count": 43
    }
   ],
   "source": [
    "a"
   ]
  },
  {
   "source": [
    "## Numpy的随机数函数子库(3)\n",
    "- uniform(low, high, size): 产生具有均匀分布的数组，low起始值，high结束值，size形状\n",
    "- normal(loc, scale, size):具有正态分布的数组，loc均值，scale标准差， size形状\n",
    "- poissom(lam, size): "
   ],
   "cell_type": "markdown",
   "metadata": {}
  },
  {
   "cell_type": "code",
   "execution_count": null,
   "metadata": {},
   "outputs": [],
   "source": []
  },
  {
   "cell_type": "code",
   "execution_count": null,
   "metadata": {},
   "outputs": [],
   "source": []
  },
  {
   "cell_type": "code",
   "execution_count": null,
   "metadata": {},
   "outputs": [],
   "source": []
  },
  {
   "cell_type": "code",
   "execution_count": null,
   "metadata": {},
   "outputs": [],
   "source": []
  }
 ]
}